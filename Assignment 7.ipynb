{
 "cells": [
  {
   "cell_type": "markdown",
   "id": "657a86d4",
   "metadata": {},
   "source": [
    "# Write an SQL query to show only odd rows from a table."
   ]
  },
  {
   "cell_type": "code",
   "execution_count": null,
   "id": "90e14de4",
   "metadata": {},
   "outputs": [],
   "source": [
    "SELECT * FROM Worker WHERE MOD (WORKER_ID, 2) <> 0;"
   ]
  },
  {
   "cell_type": "code",
   "execution_count": null,
   "id": "03621c93",
   "metadata": {},
   "outputs": [],
   "source": []
  },
  {
   "cell_type": "markdown",
   "id": "57f0366b",
   "metadata": {},
   "source": [
    "# Write an SQL query to clone a new table from another table."
   ]
  },
  {
   "cell_type": "code",
   "execution_count": null,
   "id": "9c95df32",
   "metadata": {},
   "outputs": [],
   "source": [
    "create table clone_table_name like original_table_name;\n",
    "insert into clone_table_name select * from original_table_name;"
   ]
  }
 ],
 "metadata": {
  "kernelspec": {
   "display_name": "Python 3 (ipykernel)",
   "language": "python",
   "name": "python3"
  },
  "language_info": {
   "codemirror_mode": {
    "name": "ipython",
    "version": 3
   },
   "file_extension": ".py",
   "mimetype": "text/x-python",
   "name": "python",
   "nbconvert_exporter": "python",
   "pygments_lexer": "ipython3",
   "version": "3.9.12"
  }
 },
 "nbformat": 4,
 "nbformat_minor": 5
}
