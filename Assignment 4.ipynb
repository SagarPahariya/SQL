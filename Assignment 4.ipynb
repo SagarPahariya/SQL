{
 "cells": [
  {
   "cell_type": "markdown",
   "id": "09199ff5",
   "metadata": {},
   "source": [
    "# Write an SQL query to print the FIRST_NAME from Worker table after replacing ‘a’ with ‘A’."
   ]
  },
  {
   "cell_type": "code",
   "execution_count": null,
   "id": "6f57ee7c",
   "metadata": {},
   "outputs": [],
   "source": [
    "update t2 set first_name = replace(en, 'a', 'A');"
   ]
  },
  {
   "cell_type": "code",
   "execution_count": null,
   "id": "cae965ef",
   "metadata": {},
   "outputs": [],
   "source": []
  },
  {
   "cell_type": "markdown",
   "id": "e83a1587",
   "metadata": {},
   "source": [
    "# Write an SQL query to print all Worker details from the Worker table order by FIRST_NAME Ascending and DEPARTMENT Descending."
   ]
  },
  {
   "cell_type": "code",
   "execution_count": null,
   "id": "4c1449b5",
   "metadata": {},
   "outputs": [],
   "source": [
    "select * from worker order by first_name asc , department desc;"
   ]
  }
 ],
 "metadata": {
  "kernelspec": {
   "display_name": "Python 3 (ipykernel)",
   "language": "python",
   "name": "python3"
  },
  "language_info": {
   "codemirror_mode": {
    "name": "ipython",
    "version": 3
   },
   "file_extension": ".py",
   "mimetype": "text/x-python",
   "name": "python",
   "nbconvert_exporter": "python",
   "pygments_lexer": "ipython3",
   "version": "3.9.12"
  }
 },
 "nbformat": 4,
 "nbformat_minor": 5
}
