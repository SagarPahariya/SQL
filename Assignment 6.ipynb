{
 "cells": [
  {
   "cell_type": "markdown",
   "id": "1a9a8c26",
   "metadata": {},
   "source": [
    "# Write an SQL query to print details of the Workers who have joined in Feb’2014."
   ]
  },
  {
   "cell_type": "code",
   "execution_count": null,
   "id": "33da9c5d",
   "metadata": {},
   "outputs": [],
   "source": [
    "Select * from Worker where year(JOINING_DATE) = 2014 and month(JOINING_DATE) = 2;"
   ]
  },
  {
   "cell_type": "code",
   "execution_count": null,
   "id": "485b4799",
   "metadata": {},
   "outputs": [],
   "source": []
  },
  {
   "cell_type": "markdown",
   "id": "237d908d",
   "metadata": {},
   "source": [
    "# Write an SQL query to fetch duplicate records having matching data in some fields of a table."
   ]
  },
  {
   "cell_type": "code",
   "execution_count": null,
   "id": "f2625079",
   "metadata": {},
   "outputs": [],
   "source": [
    "SELECT department, join_date, COUNT(*) FROM employee GROUP BY department, join_date HAVING COUNT(*) > 1 ;"
   ]
  },
  {
   "cell_type": "code",
   "execution_count": null,
   "id": "4bfd14c7",
   "metadata": {},
   "outputs": [],
   "source": []
  },
  {
   "cell_type": "code",
   "execution_count": null,
   "id": "36c06562",
   "metadata": {},
   "outputs": [],
   "source": []
  }
 ],
 "metadata": {
  "kernelspec": {
   "display_name": "Python 3 (ipykernel)",
   "language": "python",
   "name": "python3"
  },
  "language_info": {
   "codemirror_mode": {
    "name": "ipython",
    "version": 3
   },
   "file_extension": ".py",
   "mimetype": "text/x-python",
   "name": "python",
   "nbconvert_exporter": "python",
   "pygments_lexer": "ipython3",
   "version": "3.9.12"
  }
 },
 "nbformat": 4,
 "nbformat_minor": 5
}
