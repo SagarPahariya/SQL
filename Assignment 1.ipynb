{
 "cells": [
  {
   "cell_type": "markdown",
   "id": "ad27b372",
   "metadata": {},
   "source": [
    " # Write an SQL query to fetch “FIRST_NAME” from Worker table using the alias name as <WORKER_NAME>."
   ]
  },
  {
   "cell_type": "code",
   "execution_count": null,
   "id": "5e96275d",
   "metadata": {},
   "outputs": [],
   "source": [
    "select DISTINCT(FIRST_NAME) FROM Worker as WORKER_NAME ;"
   ]
  },
  {
   "cell_type": "code",
   "execution_count": null,
   "id": "0b72ee3a",
   "metadata": {},
   "outputs": [],
   "source": []
  },
  {
   "cell_type": "markdown",
   "id": "3a791f02",
   "metadata": {
    "ExecuteTime": {
     "end_time": "2022-11-14T02:19:48.367275Z",
     "start_time": "2022-11-14T02:19:48.350536Z"
    }
   },
   "source": [
    "# Write an SQL query to fetch unique values of DEPARTMENT from Worker table."
   ]
  },
  {
   "cell_type": "code",
   "execution_count": null,
   "id": "80ee5763",
   "metadata": {},
   "outputs": [],
   "source": [
    "select DISTINCT(DEPARTMENT) FROM Worker;"
   ]
  },
  {
   "cell_type": "code",
   "execution_count": null,
   "id": "44b7a2af",
   "metadata": {},
   "outputs": [],
   "source": []
  },
  {
   "cell_type": "markdown",
   "id": "226e053c",
   "metadata": {},
   "source": [
    "# Write an SQL query to show the last 5 record from a table."
   ]
  },
  {
   "cell_type": "code",
   "execution_count": null,
   "id": "905b9d24",
   "metadata": {},
   "outputs": [],
   "source": [
    "select * from Worker order by employeeid desc limit 5;"
   ]
  }
 ],
 "metadata": {
  "kernelspec": {
   "display_name": "Python 3 (ipykernel)",
   "language": "python",
   "name": "python3"
  },
  "language_info": {
   "codemirror_mode": {
    "name": "ipython",
    "version": 3
   },
   "file_extension": ".py",
   "mimetype": "text/x-python",
   "name": "python",
   "nbconvert_exporter": "python",
   "pygments_lexer": "ipython3",
   "version": "3.9.12"
  }
 },
 "nbformat": 4,
 "nbformat_minor": 5
}
