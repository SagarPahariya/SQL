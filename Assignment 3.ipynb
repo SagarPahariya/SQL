{
 "cells": [
  {
   "cell_type": "markdown",
   "id": "8490a4d0",
   "metadata": {},
   "source": [
    "# Write an SQL query to print the FIRST_NAME from Worker table after removing white spaces from the right side."
   ]
  },
  {
   "cell_type": "code",
   "execution_count": null,
   "id": "1806c333",
   "metadata": {},
   "outputs": [],
   "source": [
    "select trim(first_name) from worker;"
   ]
  },
  {
   "cell_type": "code",
   "execution_count": null,
   "id": "839dc48a",
   "metadata": {},
   "outputs": [],
   "source": []
  },
  {
   "cell_type": "markdown",
   "id": "10041edc",
   "metadata": {},
   "source": [
    "# Write an SQL query that fetches the unique values of DEPARTMENT from Worker table and prints its length."
   ]
  },
  {
   "cell_type": "code",
   "execution_count": null,
   "id": "071b7801",
   "metadata": {},
   "outputs": [],
   "source": [
    "select distinct(department), length(department) from worker where department in (select distinct(department) from worker);"
   ]
  }
 ],
 "metadata": {
  "kernelspec": {
   "display_name": "Python 3 (ipykernel)",
   "language": "python",
   "name": "python3"
  },
  "language_info": {
   "codemirror_mode": {
    "name": "ipython",
    "version": 3
   },
   "file_extension": ".py",
   "mimetype": "text/x-python",
   "name": "python",
   "nbconvert_exporter": "python",
   "pygments_lexer": "ipython3",
   "version": "3.9.12"
  }
 },
 "nbformat": 4,
 "nbformat_minor": 5
}
