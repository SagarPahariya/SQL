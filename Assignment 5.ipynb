{
 "cells": [
  {
   "cell_type": "markdown",
   "id": "46d44562",
   "metadata": {},
   "source": [
    "# Write an SQL query to print details of workers excluding first names, “Vipul” and “Satish” from Worker table."
   ]
  },
  {
   "cell_type": "code",
   "execution_count": null,
   "id": "2f88e44f",
   "metadata": {},
   "outputs": [],
   "source": [
    "select * from workers where not first name = ('Vipul') and not first name = ('Satish') ;"
   ]
  },
  {
   "cell_type": "code",
   "execution_count": null,
   "id": "f5fa10f7",
   "metadata": {},
   "outputs": [],
   "source": []
  },
  {
   "cell_type": "markdown",
   "id": "a471705a",
   "metadata": {},
   "source": [
    "# Write an SQL query to print details of the Workers whose FIRST_NAME ends with ‘h’ and contains six alphabets."
   ]
  },
  {
   "cell_type": "code",
   "execution_count": null,
   "id": "aecb336b",
   "metadata": {},
   "outputs": [],
   "source": [
    "select * from worker where first_name like '%______h';"
   ]
  },
  {
   "cell_type": "code",
   "execution_count": null,
   "id": "5276d33d",
   "metadata": {},
   "outputs": [],
   "source": []
  },
  {
   "cell_type": "markdown",
   "id": "400ec943",
   "metadata": {},
   "source": [
    "# Write a query to validate Email of Employee."
   ]
  },
  {
   "cell_type": "code",
   "execution_count": null,
   "id": "b556ebd0",
   "metadata": {},
   "outputs": [],
   "source": [
    "select * from employee where email_id like '%@gmail.com' or email_id like '%@yahoo.com';"
   ]
  }
 ],
 "metadata": {
  "kernelspec": {
   "display_name": "Python 3 (ipykernel)",
   "language": "python",
   "name": "python3"
  },
  "language_info": {
   "codemirror_mode": {
    "name": "ipython",
    "version": 3
   },
   "file_extension": ".py",
   "mimetype": "text/x-python",
   "name": "python",
   "nbconvert_exporter": "python",
   "pygments_lexer": "ipython3",
   "version": "3.9.12"
  }
 },
 "nbformat": 4,
 "nbformat_minor": 5
}
