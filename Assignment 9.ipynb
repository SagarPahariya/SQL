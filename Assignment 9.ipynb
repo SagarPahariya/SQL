{
 "cells": [
  {
   "cell_type": "markdown",
   "id": "e81df48f",
   "metadata": {},
   "source": [
    "# Write an SQL query to show the top n (say 10) records of a table."
   ]
  },
  {
   "cell_type": "code",
   "execution_count": null,
   "id": "e33c5cdb",
   "metadata": {},
   "outputs": [],
   "source": [
    "select * from table_name limit 10;"
   ]
  },
  {
   "cell_type": "code",
   "execution_count": null,
   "id": "c50bb040",
   "metadata": {},
   "outputs": [],
   "source": []
  },
  {
   "cell_type": "markdown",
   "id": "e97da79c",
   "metadata": {},
   "source": [
    "# Write an SQL query to determine the nth (say n=5) highest salary from a table."
   ]
  },
  {
   "cell_type": "code",
   "execution_count": null,
   "id": "11c7417b",
   "metadata": {},
   "outputs": [],
   "source": [
    "select * from table_name order by salary desc limit 5;"
   ]
  }
 ],
 "metadata": {
  "kernelspec": {
   "display_name": "Python 3 (ipykernel)",
   "language": "python",
   "name": "python3"
  },
  "language_info": {
   "codemirror_mode": {
    "name": "ipython",
    "version": 3
   },
   "file_extension": ".py",
   "mimetype": "text/x-python",
   "name": "python",
   "nbconvert_exporter": "python",
   "pygments_lexer": "ipython3",
   "version": "3.9.12"
  }
 },
 "nbformat": 4,
 "nbformat_minor": 5
}
