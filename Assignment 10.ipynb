{
 "cells": [
  {
   "cell_type": "markdown",
   "id": "64ac0b51",
   "metadata": {},
   "source": [
    "# Write an SQL query to determine the 5th highest salary without using TOP or limit method."
   ]
  },
  {
   "cell_type": "code",
   "execution_count": null,
   "id": "12e0f152",
   "metadata": {},
   "outputs": [],
   "source": [
    "SELECT * FROM (  SELECT ROW_NUMBER() OVER (ORDER BY SALARY DESC) AS rownumber,Salary  FROM t2)  AS TRI  WHERE rownumber = 5;"
   ]
  },
  {
   "cell_type": "code",
   "execution_count": null,
   "id": "faa721bd",
   "metadata": {},
   "outputs": [],
   "source": []
  },
  {
   "cell_type": "markdown",
   "id": "e541caa9",
   "metadata": {},
   "source": [
    "# Write an SQL query to fetch the list of employees with the same salary."
   ]
  },
  {
   "cell_type": "code",
   "execution_count": null,
   "id": "1986a659",
   "metadata": {},
   "outputs": [],
   "source": [
    "select * from t8 where name in (select distinct(name) from (select w.name, w.sal, w.dep,w.id from t8 as w, t8 as w1 where w.sal = w1.sal and w.id != w1.id and w.dep != w1.dep) as tr1);"
   ]
  }
 ],
 "metadata": {
  "kernelspec": {
   "display_name": "Python 3 (ipykernel)",
   "language": "python",
   "name": "python3"
  },
  "language_info": {
   "codemirror_mode": {
    "name": "ipython",
    "version": 3
   },
   "file_extension": ".py",
   "mimetype": "text/x-python",
   "name": "python",
   "nbconvert_exporter": "python",
   "pygments_lexer": "ipython3",
   "version": "3.9.12"
  }
 },
 "nbformat": 4,
 "nbformat_minor": 5
}
