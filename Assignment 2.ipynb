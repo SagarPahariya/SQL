{
 "cells": [
  {
   "cell_type": "markdown",
   "id": "abf4b690",
   "metadata": {},
   "source": [
    "# Write an SQL query to print the first three characters of  FIRST_NAME from Worker table. "
   ]
  },
  {
   "cell_type": "code",
   "execution_count": null,
   "id": "e6b0182e",
   "metadata": {},
   "outputs": [],
   "source": [
    "select left(FIRST_NAME , 3) from worker;"
   ]
  },
  {
   "cell_type": "code",
   "execution_count": null,
   "id": "d4ec7641",
   "metadata": {},
   "outputs": [],
   "source": []
  },
  {
   "cell_type": "markdown",
   "id": "54f6f5a1",
   "metadata": {},
   "source": [
    "# Write an SQL query to find the position of the alphabet (‘a’) in the first name column ‘Amitabh’ from Worker table."
   ]
  },
  {
   "cell_type": "code",
   "execution_count": null,
   "id": "abe321f9",
   "metadata": {},
   "outputs": [],
   "source": [
    "select INSTR(BINARY first name,'a') from Worker where first name = 'Amitabh'; "
   ]
  },
  {
   "cell_type": "code",
   "execution_count": null,
   "id": "67cb592e",
   "metadata": {},
   "outputs": [],
   "source": []
  },
  {
   "cell_type": "markdown",
   "id": "06763a14",
   "metadata": {},
   "source": [
    "# Write an SQL query to print the name of employees having the highest salary in each department."
   ]
  },
  {
   "cell_type": "code",
   "execution_count": null,
   "id": "d6638405",
   "metadata": {},
   "outputs": [],
   "source": [
    "select en from t2 where salary in (select max(salary) from t2 group by ed);"
   ]
  }
 ],
 "metadata": {
  "kernelspec": {
   "display_name": "Python 3 (ipykernel)",
   "language": "python",
   "name": "python3"
  },
  "language_info": {
   "codemirror_mode": {
    "name": "ipython",
    "version": 3
   },
   "file_extension": ".py",
   "mimetype": "text/x-python",
   "name": "python",
   "nbconvert_exporter": "python",
   "pygments_lexer": "ipython3",
   "version": "3.9.12"
  }
 },
 "nbformat": 4,
 "nbformat_minor": 5
}
